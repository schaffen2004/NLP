{
 "cells": [
  {
   "cell_type": "markdown",
   "id": "81c728d9",
   "metadata": {},
   "source": [
    "### Website for test regex"
   ]
  },
  {
   "cell_type": "markdown",
   "id": "a1faba23",
   "metadata": {},
   "source": [
    "- [Regex101](https://regex101.com/)"
   ]
  },
  {
   "cell_type": "markdown",
   "id": "41638f9e",
   "metadata": {},
   "source": [
    "### Docs"
   ]
  },
  {
   "cell_type": "markdown",
   "id": "8e08b767",
   "metadata": {},
   "source": [
    "- [Regex document](https://www.notion.so/schaffen-494/Regex-1b478b7a05e880748ddfccd3c9ba190d?pvs=4)"
   ]
  },
  {
   "cell_type": "markdown",
   "id": "6a6c749e",
   "metadata": {},
   "source": [
    "### Practise"
   ]
  },
  {
   "cell_type": "code",
   "execution_count": 28,
   "id": "1504887d",
   "metadata": {},
   "outputs": [],
   "source": [
    "import re"
   ]
  },
  {
   "cell_type": "code",
   "execution_count": 29,
   "id": "d077b746",
   "metadata": {},
   "outputs": [],
   "source": [
    "text = \"\"\"\n",
    "Contact us at support@company.com or sales.team@store.org.\n",
    "Call us at 123-456-7890 or 987-654-3210 for assistance.\n",
    "Visit our website: https://example.com or http://shop.net.\n",
    "Order dates: 15-03-2023, 05-12-2022, 23-07-2024.\n",
    "Product codes: ABC123, XYZ789, 456DEF.\n",
    "\"\"\""
   ]
  },
  {
   "cell_type": "markdown",
   "id": "3bfd152f",
   "metadata": {},
   "source": [
    "#### **Nhiệm Vụ 1: findall - Trích Xuất Địa Chỉ Email**\n",
    "\n",
    "Viết một mẫu regex để trích xuất tất cả các địa chỉ email từ văn bản. Một địa chỉ email bao gồm tên người dùng (ký tự chữ, dấu chấm, hoặc dấu gạch ngang), ký hiệu @, tên miền (ký tự chữ, dấu chấm, hoặc dấu gạch ngang), và tên miền cấp cao (ví dụ: .com, .org)."
   ]
  },
  {
   "cell_type": "code",
   "execution_count": 30,
   "id": "9aaeace5",
   "metadata": {},
   "outputs": [
    {
     "data": {
      "text/plain": [
       "['support@company.com', 'team@store.org']"
      ]
     },
     "execution_count": 30,
     "metadata": {},
     "output_type": "execute_result"
    }
   ],
   "source": [
    "email = re.findall(\"[\\w\\_]+@[\\w\\_]+.[\\w\\_]+\",text)\n",
    "email"
   ]
  },
  {
   "cell_type": "markdown",
   "id": "92fa492a",
   "metadata": {},
   "source": [
    "#### **Nhiệm Vụ 2: finditer - Xác Định Vị Trí Số Điện Thoại**\n",
    "\n",
    "Viết một mẫu regex để tìm tất cả các số điện thoại có định dạng XXX-XXX-XXXX và trả về nội dung cùng vị trí của chúng (chỉ số bắt đầu và kết thúc). Đảm bảo các số điện thoại là hoàn chỉnh (sử dụng ranh giới từ)."
   ]
  },
  {
   "cell_type": "code",
   "execution_count": 31,
   "id": "2a9bdd7e",
   "metadata": {},
   "outputs": [
    {
     "name": "stdout",
     "output_type": "stream",
     "text": [
      "123-456-7890, 71 - 83\n",
      "987-654-3210, 87 - 99\n"
     ]
    }
   ],
   "source": [
    "phone_nums = re.finditer(\"\\d{3}-\\d{3}-\\d{4}\",text)\n",
    "for phone in phone_nums:\n",
    "    print(f\"{phone.group()}, {phone.start()} - {phone.end()}\")"
   ]
  },
  {
   "cell_type": "markdown",
   "id": "763c4840",
   "metadata": {},
   "source": [
    "#### **Nhiệm Vụ 3: search - Tìm URL HTTPS Đầu Tiên**\n",
    "\n",
    "Viết một mẫu regex để tìm URL đầu tiên bắt đầu bằng http hoặc https. URL cần có tên miền (ký tự chữ, dấu chấm, hoặc dấu gạch ngang) và tên miền cấp cao (ví dụ: .com, .net)."
   ]
  },
  {
   "cell_type": "code",
   "execution_count": 32,
   "id": "fbd16e02",
   "metadata": {},
   "outputs": [
    {
     "name": "stdout",
     "output_type": "stream",
     "text": [
      "https://example.com\n"
     ]
    }
   ],
   "source": [
    "url = re.search(r\"http.://[\\w\\.-]+\\.\\w+\",text)\n",
    "print(url.group())"
   ]
  },
  {
   "cell_type": "markdown",
   "id": "b662c646",
   "metadata": {},
   "source": [
    "#### **Nhiệm Vụ 4: split - Chia Văn Bản Theo Ký Tự Không Phải Từ**\n",
    "\n",
    "Viết một mẫu regex để chia văn bản thành các từ, sử dụng các ký tự không phải từ (dấu câu, khoảng trắng, v.v.) làm dấu phân cách. Loại bỏ các chuỗi rỗng khỏi kết quả."
   ]
  },
  {
   "cell_type": "code",
   "execution_count": 33,
   "id": "7e908d8b",
   "metadata": {},
   "outputs": [
    {
     "data": {
      "text/plain": [
       "['',\n",
       " 'Contact',\n",
       " 'us',\n",
       " 'at',\n",
       " 'support',\n",
       " 'company',\n",
       " 'com',\n",
       " 'or',\n",
       " 'sales',\n",
       " 'team',\n",
       " 'store',\n",
       " 'org',\n",
       " 'Call',\n",
       " 'us',\n",
       " 'at',\n",
       " '123',\n",
       " '456',\n",
       " '7890',\n",
       " 'or',\n",
       " '987',\n",
       " '654',\n",
       " '3210',\n",
       " 'for',\n",
       " 'assistance',\n",
       " 'Visit',\n",
       " 'our',\n",
       " 'website',\n",
       " 'https',\n",
       " 'example',\n",
       " 'com',\n",
       " 'or',\n",
       " 'http',\n",
       " 'shop',\n",
       " 'net',\n",
       " 'Order',\n",
       " 'dates',\n",
       " '15',\n",
       " '03',\n",
       " '2023',\n",
       " '05',\n",
       " '12',\n",
       " '2022',\n",
       " '23',\n",
       " '07',\n",
       " '2024',\n",
       " 'Product',\n",
       " 'codes',\n",
       " 'ABC123',\n",
       " 'XYZ789',\n",
       " '456DEF',\n",
       " '']"
      ]
     },
     "execution_count": 33,
     "metadata": {},
     "output_type": "execute_result"
    }
   ],
   "source": [
    "words = re.split(r\"\\W+\",text)\n",
    "words"
   ]
  },
  {
   "cell_type": "markdown",
   "id": "bddb9f85",
   "metadata": {},
   "source": [
    "#### **Nhiệm Vụ 5: sub - Che Dấu Số Trong Mã Sản Phẩm**\n",
    "\n",
    "Viết một mẫu regex để thay thế tất cả các chữ số trong mã sản phẩm (ví dụ: ABC123, 456DEF) bằng #. Mã sản phẩm là sự kết hợp của chữ cái và số (3 chữ cái theo sau 3 số hoặc ngược lại)."
   ]
  },
  {
   "cell_type": "code",
   "execution_count": 41,
   "id": "fd32a045",
   "metadata": {},
   "outputs": [
    {
     "data": {
      "text/plain": [
       "['ABC123', 'XYZ789', '456DEF']"
      ]
     },
     "execution_count": 41,
     "metadata": {},
     "output_type": "execute_result"
    }
   ],
   "source": [
    "codes = re.findall(r\"[A-Z]+\\d+\",text)\n",
    "codes += re.findall(r\"\\d+[A-Z]+\",text)\n",
    "codes"
   ]
  },
  {
   "cell_type": "code",
   "execution_count": 43,
   "id": "ad41ae1f",
   "metadata": {},
   "outputs": [
    {
     "name": "stdout",
     "output_type": "stream",
     "text": [
      "ABC###\n",
      "XYZ###\n",
      "###DEF\n"
     ]
    }
   ],
   "source": [
    "for code in codes:\n",
    "    print(re.sub(r\"\\d\",\"#\",code))"
   ]
  }
 ],
 "metadata": {
  "kernelspec": {
   "display_name": "venv",
   "language": "python",
   "name": "python3"
  },
  "language_info": {
   "codemirror_mode": {
    "name": "ipython",
    "version": 3
   },
   "file_extension": ".py",
   "mimetype": "text/x-python",
   "name": "python",
   "nbconvert_exporter": "python",
   "pygments_lexer": "ipython3",
   "version": "3.11.12"
  }
 },
 "nbformat": 4,
 "nbformat_minor": 5
}
